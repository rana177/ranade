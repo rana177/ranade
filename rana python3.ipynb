{
 "cells": [
  {
   "cell_type": "code",
   "execution_count": null,
   "metadata": {
    "collapsed": true
   },
   "outputs": [],
   "source": [
    "l=[10,20,30,40]\n",
    "print(l[0])"
   ]
  },
  {
   "cell_type": "code",
   "execution_count": null,
   "metadata": {
    "collapsed": true
   },
   "outputs": [],
   "source": [
    "##to display the even on and odd no##\n",
    "x=[10,30,35,67,3]\n",
    "for i in range(len(x)):\n",
    "    if x[i]%2==0:\n",
    "        print(\"this is a even no\",x[i])\n",
    "    else:\n",
    "        print(\"this is an odd on\",x[i])\n"
   ]
  },
  {
   "cell_type": "code",
   "execution_count": null,
   "metadata": {
    "collapsed": true
   },
   "outputs": [],
   "source": [
    "#the list present in positive index and negative index##\n",
    "l=[10,20,30,40]\n",
    "for i in range(len(l)):\n",
    "    print(\"the element{}is in positive index{} and negative inex{}\".format(l[i],i,i-len(l)))"
   ]
  },
  {
   "cell_type": "code",
   "execution_count": null,
   "metadata": {
    "collapsed": true
   },
   "outputs": [],
   "source": [
    "##count##\n",
    "l=[10,20,10,20,30,40]\n",
    "print(l.count(10))"
   ]
  },
  {
   "cell_type": "code",
   "execution_count": null,
   "metadata": {
    "collapsed": true
   },
   "outputs": [],
   "source": [
    "#find the given no  present in  the list##\n",
    "x=[10,20,30,40]\n",
    "target=int(input(\"enter the list element to find\"))\n",
    "if target in x:\n",
    "    print(\"the no is {}  present {} in\".format(target ,x.index(target)))\n",
    "else:\n",
    "    print(\"its not present\")\n",
    "\n"
   ]
  },
  {
   "cell_type": "code",
   "execution_count": null,
   "metadata": {
    "collapsed": true
   },
   "outputs": [],
   "source": [
    "##To add element to list from 1 to 100 divisible by ##\n",
    "x=[]\n",
    "for i in range(0,100):\n",
    "    if (i%10==0):\n",
    "        x.append(i)\n",
    "        print(x)"
   ]
  },
  {
   "cell_type": "code",
   "execution_count": null,
   "metadata": {
    "collapsed": true
   },
   "outputs": [],
   "source": [
    "##append vs extend##\n",
    "x=[10,20,30,40]\n",
    "x.append(\"rana\")\n",
    "print(x)\n",
    "x.extend(\"dey\")\n",
    "print(x)"
   ]
  },
  {
   "cell_type": "code",
   "execution_count": null,
   "metadata": {
    "collapsed": true
   },
   "outputs": [],
   "source": [
    "##input a no in a list if this no is present then remove it##\n",
    "x=[10,20,30,40,50]\n",
    "y=int(input(\"enter the no t be enter\"))\n",
    "if y in x:\n",
    "    print(\"the no {} is present in so remove it {}\".format(y,x.remove(y)))\n",
    "    print(x)"
   ]
  },
  {
   "cell_type": "markdown",
   "metadata": {},
   "source": [
    "\n"
   ]
  },
  {
   "cell_type": "code",
   "execution_count": null,
   "metadata": {
    "collapsed": true
   },
   "outputs": [],
   "source": [
    "##remove the top most element ina list##\n",
    "l=[10,20,30,40,50]\n",
    "l.pop()\n",
    "print(l)"
   ]
  },
  {
   "cell_type": "code",
   "execution_count": null,
   "metadata": {
    "collapsed": true
   },
   "outputs": [],
   "source": [
    "##sort in reverse  of natural sorting order##\n",
    "l=[10,20,30,50,1,40,9,8]\n",
    "l.sort(reverse=True)\n",
    "print(l)"
   ]
  },
  {
   "cell_type": "code",
   "execution_count": null,
   "metadata": {},
   "outputs": [],
   "source": [
    "## wap to display the unique vowel present in given word##\n",
    "l=\"ranadey\"\n",
    "y=l.upper()\n",
    "v=[\"A\",\"E\",\"I\",\"O\",\"U\"]\n",
    "found=[]\n",
    "for letter in word:\n",
    "    if letter in vowel:\n",
    "        if letter not in found:\n",
    "            found.append(letter)\n",
    "             print(found)\n",
    "    \n"
   ]
  },
  {
   "cell_type": "code",
   "execution_count": null,
   "metadata": {
    "collapsed": true
   },
   "outputs": [],
   "source": []
  },
  {
   "cell_type": "code",
   "execution_count": null,
   "metadata": {
    "collapsed": true
   },
   "outputs": [],
   "source": [
    "##wap to revarce the string without sliceing\"\n",
    "x=\"ranadey\"\n",
    "i=len(x)-1\n",
    "while i>0:\n",
    "    print(x[i],end=\"\")"
   ]
  },
  {
   "cell_type": "code",
   "execution_count": null,
   "metadata": {
    "collapsed": true
   },
   "outputs": [],
   "source": []
  },
  {
   "cell_type": "code",
   "execution_count": null,
   "metadata": {
    "collapsed": true
   },
   "outputs": [],
   "source": []
  },
  {
   "cell_type": "code",
   "execution_count": null,
   "metadata": {
    "collapsed": true
   },
   "outputs": [],
   "source": []
  }
 ],
 "metadata": {
  "kernelspec": {
   "display_name": "Python 3",
   "language": "python",
   "name": "python3"
  },
  "language_info": {
   "codemirror_mode": {
    "name": "ipython",
    "version": 3
   },
   "file_extension": ".py",
   "mimetype": "text/x-python",
   "name": "python",
   "nbconvert_exporter": "python",
   "pygments_lexer": "ipython3",
   "version": "3.8.5"
  }
 },
 "nbformat": 4,
 "nbformat_minor": 4
}
