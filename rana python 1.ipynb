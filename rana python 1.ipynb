{
 "cells": [
  {
   "cell_type": "code",
   "execution_count": 2,
   "metadata": {},
   "outputs": [
    {
     "name": "stdout",
     "output_type": "stream",
     "text": [
      "10\n",
      "30\n",
      "60\n",
      "100\n"
     ]
    }
   ],
   "source": [
    "#sum of element in a list\n",
    "l=[10,20,30,40]\n",
    "sum=0\n",
    "for i in l:\n",
    "    sum=sum+i\n",
    "    print(sum)"
   ]
  },
  {
   "cell_type": "code",
   "execution_count": 3,
   "metadata": {},
   "outputs": [
    {
     "name": "stdout",
     "output_type": "stream",
     "text": [
      "10\n",
      "200\n",
      "6000\n",
      "240000\n"
     ]
    }
   ],
   "source": [
    "#multiplication of list element\n",
    "l=[10,20,30,40]\n",
    "mul=1\n",
    "for i in l:\n",
    "    mul=mul*i\n",
    "    print(mul)"
   ]
  },
  {
   "cell_type": "code",
   "execution_count": 4,
   "metadata": {},
   "outputs": [
    {
     "name": "stdout",
     "output_type": "stream",
     "text": [
      "the largest no 1000\n"
     ]
    }
   ],
   "source": [
    "#wap to get the largest element \n",
    "l=[10,20,30,1000,50]\n",
    "large=l[0]\n",
    "for i in l:\n",
    "    if large<i:\n",
    "        large=i\n",
    "print(\"the largest no\",large)"
   ]
  },
  {
   "cell_type": "code",
   "execution_count": 5,
   "metadata": {},
   "outputs": [
    {
     "name": "stdout",
     "output_type": "stream",
     "text": [
      "the smallest element 1\n"
     ]
    }
   ],
   "source": [
    "#wap to get smallest element\n",
    "l=[10,30,40,1,20]\n",
    "min=l[0]\n",
    "for i in l:\n",
    "    if min>i:\n",
    "        min=i\n",
    "print(\"the smallest element\",min)"
   ]
  },
  {
   "cell_type": "code",
   "execution_count": 6,
   "metadata": {},
   "outputs": [
    {
     "name": "stdout",
     "output_type": "stream",
     "text": [
      "the no is 4\n"
     ]
    }
   ],
   "source": [
    "#count the no of string in a list which length is 2 or more than\n",
    "l=[\"rana\",\"ra\",\"1\",\"12\",\"rana\"]\n",
    "count=0\n",
    "for i in l:\n",
    "    if(len(i)>=2):\n",
    "        count=count+1\n",
    "print(\"the no is\",count)\n"
   ]
  },
  {
   "cell_type": "code",
   "execution_count": 7,
   "metadata": {},
   "outputs": [
    {
     "name": "stdout",
     "output_type": "stream",
     "text": [
      "[40, 10, 50, 20, 60, 30]\n"
     ]
    }
   ],
   "source": [
    "#wap to remove duplicate from list\n",
    "l=[10,20,30,10,20,40,50,60]\n",
    "s=set(l)\n",
    "print(list(s))"
   ]
  },
  {
   "cell_type": "code",
   "execution_count": 8,
   "metadata": {},
   "outputs": [
    {
     "name": "stdout",
     "output_type": "stream",
     "text": [
      "the list is empty\n"
     ]
    }
   ],
   "source": [
    "#how to find that list is empty or not\n",
    "l=[]\n",
    "if len(l)==0:\n",
    "    print(\"the list is empty\")"
   ]
  },
  {
   "cell_type": "code",
   "execution_count": null,
   "metadata": {},
   "outputs": [],
   "source": [
    "#wap to find the list of word that are longer than n from a given list of word\n",
    "l=[\"rana\",\"ravi\",\"rahul\",\"rohan\",\"p\",\"k\"]\n",
    "n=int(input(\"enter the value of n =\"))\n",
    "for i in l:\n",
    "    if len(i)>n:\n",
    "        print(\"the word is\",i)"
   ]
  },
  {
   "cell_type": "code",
   "execution_count": null,
   "metadata": {},
   "outputs": [],
   "source": [
    "#take two list and return true if they have atleast one common member\n",
    "def common(l1,l2):\n",
    "    result=false\n",
    "    for x in l1:\n",
    "        for y in l2:\n",
    "            if x==y:\n",
    "                result=true\n",
    "                print(result)\n",
    "common([10,20,30,40],[10,40,90,80,70])"
   ]
  },
  {
   "cell_type": "code",
   "execution_count": null,
   "metadata": {},
   "outputs": [],
   "source": [
    "#wap to  print a specified list after removing the element using index\n",
    "def f1(l,pos):\n",
    "    del(l[pos])\n",
    "    print(l)\n",
    "    pos=int(input(\"enter the  position\"))\n",
    "f1([\"10\",\"20\",\"30\",\"40\"],pos)"
   ]
  },
  {
   "cell_type": "code",
   "execution_count": null,
   "metadata": {},
   "outputs": [],
   "source": []
  },
  {
   "cell_type": "code",
   "execution_count": null,
   "metadata": {},
   "outputs": [],
   "source": []
  },
  {
   "cell_type": "code",
   "execution_count": null,
   "metadata": {},
   "outputs": [],
   "source": []
  },
  {
   "cell_type": "code",
   "execution_count": null,
   "metadata": {},
   "outputs": [],
   "source": []
  }
 ],
 "metadata": {
  "kernelspec": {
   "display_name": "Python 3",
   "language": "python",
   "name": "python3"
  }
 },
 "nbformat": 4,
 "nbformat_minor": 4
}
